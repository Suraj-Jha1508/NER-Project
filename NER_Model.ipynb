{
  "nbformat": 4,
  "nbformat_minor": 0,
  "metadata": {
    "colab": {
      "name": "NER Model.ipynb",
      "provenance": []
    },
    "kernelspec": {
      "name": "python3",
      "display_name": "Python 3"
    }
  },
  "cells": [
    {
      "cell_type": "markdown",
      "metadata": {
        "id": "MdiOCMemSoh5"
      },
      "source": [
        "# **Name Entity Recognition Model (Using Bidirectional LSTM)**\r\n",
        "### ***{ Dataset : Kaggle \"Annotated Corpus for Named Entity Recognition\" }***\r\n",
        "\r\n",
        "The Named Entity Recognition models try to correctly classify text to a set of predefined classes. Classes like people (PER), organizations (ORG) or places (LOC) are used.\r\n",
        "\r\n",
        "In Named Entity Recognition, We need to extract an important information from unstructured data like text.\r\n",
        "\r\n",
        "for eg. we were provided with an unstructured data which contains COVID-19 patients and the name of medical organization, paitent belongs to, location and date.   \r\n",
        "\r\n",
        "The NER task is to correctly identify and classify text into a set of predefined classes. Classes like people (PER), organizations (ORG) or places (LOC) are used."
      ]
    },
    {
      "cell_type": "markdown",
      "metadata": {
        "id": "nzFjDxGfoX3T"
      },
      "source": [
        "I used Google Colab for this project ...."
      ]
    },
    {
      "cell_type": "code",
      "metadata": {
        "colab": {
          "resources": {
            "http://localhost:8080/nbextensions/google.colab/files.js": {
              "data": "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",
              "ok": true,
              "headers": [
                [
                  "content-type",
                  "application/javascript"
                ]
              ],
              "status": 200,
              "status_text": ""
            }
          },
          "base_uri": "https://localhost:8080/",
          "height": 73
        },
        "id": "3PAqu0LKOwca",
        "outputId": "6cc21c1d-4920-4e2f-d324-2a42562bacd8"
      },
      "source": [
        "from google.colab import files\r\n",
        "uploaded = files.upload()"
      ],
      "execution_count": 61,
      "outputs": [
        {
          "output_type": "display_data",
          "data": {
            "text/html": [
              "\n",
              "     <input type=\"file\" id=\"files-104db8d1-00f2-4ef3-a686-6d8928bd40e3\" name=\"files[]\" multiple disabled\n",
              "        style=\"border:none\" />\n",
              "     <output id=\"result-104db8d1-00f2-4ef3-a686-6d8928bd40e3\">\n",
              "      Upload widget is only available when the cell has been executed in the\n",
              "      current browser session. Please rerun this cell to enable.\n",
              "      </output>\n",
              "      <script src=\"/nbextensions/google.colab/files.js\"></script> "
            ],
            "text/plain": [
              "<IPython.core.display.HTML object>"
            ]
          },
          "metadata": {
            "tags": []
          }
        },
        {
          "output_type": "stream",
          "text": [
            "Saving NER_dataset.csv to NER_dataset.csv\n"
          ],
          "name": "stdout"
        }
      ]
    },
    {
      "cell_type": "code",
      "metadata": {
        "colab": {
          "base_uri": "https://localhost:8080/",
          "height": 197
        },
        "id": "WbEBFEKOSiL5",
        "outputId": "6508d5e3-d076-4e5b-ccb4-6ab90212f78d"
      },
      "source": [
        "import pandas as pd\r\n",
        "data = pd.read_csv('NER_dataset.csv')\r\n",
        "data.head()"
      ],
      "execution_count": 63,
      "outputs": [
        {
          "output_type": "execute_result",
          "data": {
            "text/html": [
              "<div>\n",
              "<style scoped>\n",
              "    .dataframe tbody tr th:only-of-type {\n",
              "        vertical-align: middle;\n",
              "    }\n",
              "\n",
              "    .dataframe tbody tr th {\n",
              "        vertical-align: top;\n",
              "    }\n",
              "\n",
              "    .dataframe thead th {\n",
              "        text-align: right;\n",
              "    }\n",
              "</style>\n",
              "<table border=\"1\" class=\"dataframe\">\n",
              "  <thead>\n",
              "    <tr style=\"text-align: right;\">\n",
              "      <th></th>\n",
              "      <th>Sentence #</th>\n",
              "      <th>Word</th>\n",
              "      <th>POS</th>\n",
              "      <th>Tag</th>\n",
              "    </tr>\n",
              "  </thead>\n",
              "  <tbody>\n",
              "    <tr>\n",
              "      <th>0</th>\n",
              "      <td>Sentence: 1</td>\n",
              "      <td>Thousands</td>\n",
              "      <td>NNS</td>\n",
              "      <td>O</td>\n",
              "    </tr>\n",
              "    <tr>\n",
              "      <th>1</th>\n",
              "      <td>NaN</td>\n",
              "      <td>of</td>\n",
              "      <td>IN</td>\n",
              "      <td>O</td>\n",
              "    </tr>\n",
              "    <tr>\n",
              "      <th>2</th>\n",
              "      <td>NaN</td>\n",
              "      <td>demonstrators</td>\n",
              "      <td>NNS</td>\n",
              "      <td>O</td>\n",
              "    </tr>\n",
              "    <tr>\n",
              "      <th>3</th>\n",
              "      <td>NaN</td>\n",
              "      <td>have</td>\n",
              "      <td>VBP</td>\n",
              "      <td>O</td>\n",
              "    </tr>\n",
              "    <tr>\n",
              "      <th>4</th>\n",
              "      <td>NaN</td>\n",
              "      <td>marched</td>\n",
              "      <td>VBN</td>\n",
              "      <td>O</td>\n",
              "    </tr>\n",
              "  </tbody>\n",
              "</table>\n",
              "</div>"
            ],
            "text/plain": [
              "    Sentence #           Word  POS Tag\n",
              "0  Sentence: 1      Thousands  NNS   O\n",
              "1          NaN             of   IN   O\n",
              "2          NaN  demonstrators  NNS   O\n",
              "3          NaN           have  VBP   O\n",
              "4          NaN        marched  VBN   O"
            ]
          },
          "metadata": {
            "tags": []
          },
          "execution_count": 63
        }
      ]
    },
    {
      "cell_type": "markdown",
      "metadata": {
        "id": "llCBRUlwokph"
      },
      "source": [
        "# Data Preprocessing\r\n",
        "\r\n",
        "Modification done to fit data easily into the neural nettwork.\r\n",
        "\r\n",
        "1. Tokenization\r\n",
        "2. Grouped by\r\n",
        "3. Padding\r\n",
        "4. Categorize the target variable\r\n",
        "5. Data Partition ( Raw Data = (Training(90%)+ Testing(10%)) ), (Training = (Train (75%) + Validation (25%))"
      ]
    },
    {
      "cell_type": "code",
      "metadata": {
        "id": "nNJUPJlWPCY7"
      },
      "source": [
        "def get_dict_map(data, word_or_tag):\r\n",
        "    tok2idx = {}\r\n",
        "    idx2tok = {}\r\n",
        "    \r\n",
        "    if word_or_tag == 'word':\r\n",
        "        unique_list = list(set(data['Word'].to_list()))\r\n",
        "    else:\r\n",
        "        unique_list = list(set(data['Tag'].to_list()))\r\n",
        "    \r\n",
        "    idx2tok = {id:value for  id, value in enumerate(unique_list)}\r\n",
        "    tok2idx = {value:id for  id, value in enumerate(unique_list)}\r\n",
        "    return tok2idx, idx2tok\r\n",
        "\r\n",
        "\r\n",
        "token2idx, idx2token = get_dict_map(data, 'word')\r\n",
        "tag2idx, idx2tag = get_dict_map(data, 'tag')\r\n",
        "data['Word_idx'] = data['Word'].map(token2idx)\r\n",
        "data['Tag_idx'] = data['Tag'].map(tag2idx)"
      ],
      "execution_count": 66,
      "outputs": []
    },
    {
      "cell_type": "code",
      "metadata": {
        "colab": {
          "base_uri": "https://localhost:8080/",
          "height": 347
        },
        "id": "XN_yAhExQMlh",
        "outputId": "bad76061-8120-4da3-c383-741cf3a05484"
      },
      "source": [
        "data.head(10)"
      ],
      "execution_count": 67,
      "outputs": [
        {
          "output_type": "execute_result",
          "data": {
            "text/html": [
              "<div>\n",
              "<style scoped>\n",
              "    .dataframe tbody tr th:only-of-type {\n",
              "        vertical-align: middle;\n",
              "    }\n",
              "\n",
              "    .dataframe tbody tr th {\n",
              "        vertical-align: top;\n",
              "    }\n",
              "\n",
              "    .dataframe thead th {\n",
              "        text-align: right;\n",
              "    }\n",
              "</style>\n",
              "<table border=\"1\" class=\"dataframe\">\n",
              "  <thead>\n",
              "    <tr style=\"text-align: right;\">\n",
              "      <th></th>\n",
              "      <th>Sentence #</th>\n",
              "      <th>Word</th>\n",
              "      <th>POS</th>\n",
              "      <th>Tag</th>\n",
              "      <th>Word_idx</th>\n",
              "      <th>Tag_idx</th>\n",
              "    </tr>\n",
              "  </thead>\n",
              "  <tbody>\n",
              "    <tr>\n",
              "      <th>0</th>\n",
              "      <td>Sentence: 1</td>\n",
              "      <td>Thousands</td>\n",
              "      <td>NNS</td>\n",
              "      <td>O</td>\n",
              "      <td>7121</td>\n",
              "      <td>9</td>\n",
              "    </tr>\n",
              "    <tr>\n",
              "      <th>1</th>\n",
              "      <td>NaN</td>\n",
              "      <td>of</td>\n",
              "      <td>IN</td>\n",
              "      <td>O</td>\n",
              "      <td>31348</td>\n",
              "      <td>9</td>\n",
              "    </tr>\n",
              "    <tr>\n",
              "      <th>2</th>\n",
              "      <td>NaN</td>\n",
              "      <td>demonstrators</td>\n",
              "      <td>NNS</td>\n",
              "      <td>O</td>\n",
              "      <td>13397</td>\n",
              "      <td>9</td>\n",
              "    </tr>\n",
              "    <tr>\n",
              "      <th>3</th>\n",
              "      <td>NaN</td>\n",
              "      <td>have</td>\n",
              "      <td>VBP</td>\n",
              "      <td>O</td>\n",
              "      <td>558</td>\n",
              "      <td>9</td>\n",
              "    </tr>\n",
              "    <tr>\n",
              "      <th>4</th>\n",
              "      <td>NaN</td>\n",
              "      <td>marched</td>\n",
              "      <td>VBN</td>\n",
              "      <td>O</td>\n",
              "      <td>24765</td>\n",
              "      <td>9</td>\n",
              "    </tr>\n",
              "    <tr>\n",
              "      <th>5</th>\n",
              "      <td>NaN</td>\n",
              "      <td>through</td>\n",
              "      <td>IN</td>\n",
              "      <td>O</td>\n",
              "      <td>15102</td>\n",
              "      <td>9</td>\n",
              "    </tr>\n",
              "    <tr>\n",
              "      <th>6</th>\n",
              "      <td>NaN</td>\n",
              "      <td>London</td>\n",
              "      <td>NNP</td>\n",
              "      <td>B-geo</td>\n",
              "      <td>1952</td>\n",
              "      <td>3</td>\n",
              "    </tr>\n",
              "    <tr>\n",
              "      <th>7</th>\n",
              "      <td>NaN</td>\n",
              "      <td>to</td>\n",
              "      <td>TO</td>\n",
              "      <td>O</td>\n",
              "      <td>34615</td>\n",
              "      <td>9</td>\n",
              "    </tr>\n",
              "    <tr>\n",
              "      <th>8</th>\n",
              "      <td>NaN</td>\n",
              "      <td>protest</td>\n",
              "      <td>VB</td>\n",
              "      <td>O</td>\n",
              "      <td>26533</td>\n",
              "      <td>9</td>\n",
              "    </tr>\n",
              "    <tr>\n",
              "      <th>9</th>\n",
              "      <td>NaN</td>\n",
              "      <td>the</td>\n",
              "      <td>DT</td>\n",
              "      <td>O</td>\n",
              "      <td>11240</td>\n",
              "      <td>9</td>\n",
              "    </tr>\n",
              "  </tbody>\n",
              "</table>\n",
              "</div>"
            ],
            "text/plain": [
              "    Sentence #           Word  POS    Tag  Word_idx  Tag_idx\n",
              "0  Sentence: 1      Thousands  NNS      O      7121        9\n",
              "1          NaN             of   IN      O     31348        9\n",
              "2          NaN  demonstrators  NNS      O     13397        9\n",
              "3          NaN           have  VBP      O       558        9\n",
              "4          NaN        marched  VBN      O     24765        9\n",
              "5          NaN        through   IN      O     15102        9\n",
              "6          NaN         London  NNP  B-geo      1952        3\n",
              "7          NaN             to   TO      O     34615        9\n",
              "8          NaN        protest   VB      O     26533        9\n",
              "9          NaN            the   DT      O     11240        9"
            ]
          },
          "metadata": {
            "tags": []
          },
          "execution_count": 67
        }
      ]
    },
    {
      "cell_type": "code",
      "metadata": {
        "colab": {
          "base_uri": "https://localhost:8080/"
        },
        "id": "9J061OCpQPFv",
        "outputId": "9bcbbd76-d7aa-42e0-97b2-5a2e392177bd"
      },
      "source": [
        "data_fillna = data.fillna(method='ffill')\r\n",
        "# Groupby and collect columns\r\n",
        "data_group = data_fillna.groupby(\r\n",
        "['Sentence #'],as_index=False\r\n",
        ")['Word', 'POS', 'Tag', 'Word_idx', 'Tag_idx'].agg(lambda x: list(x))"
      ],
      "execution_count": 72,
      "outputs": [
        {
          "output_type": "stream",
          "text": [
            "/usr/local/lib/python3.6/dist-packages/ipykernel_launcher.py:5: FutureWarning: Indexing with multiple keys (implicitly converted to a tuple of keys) will be deprecated, use a list instead.\n",
            "  \"\"\"\n"
          ],
          "name": "stderr"
        }
      ]
    },
    {
      "cell_type": "code",
      "metadata": {
        "colab": {
          "base_uri": "https://localhost:8080/",
          "height": 406
        },
        "id": "XKDCM-9mQkuc",
        "outputId": "280f96ec-0483-49a0-cfd8-f88f713b5089"
      },
      "source": [
        "data_group"
      ],
      "execution_count": 73,
      "outputs": [
        {
          "output_type": "execute_result",
          "data": {
            "text/html": [
              "<div>\n",
              "<style scoped>\n",
              "    .dataframe tbody tr th:only-of-type {\n",
              "        vertical-align: middle;\n",
              "    }\n",
              "\n",
              "    .dataframe tbody tr th {\n",
              "        vertical-align: top;\n",
              "    }\n",
              "\n",
              "    .dataframe thead th {\n",
              "        text-align: right;\n",
              "    }\n",
              "</style>\n",
              "<table border=\"1\" class=\"dataframe\">\n",
              "  <thead>\n",
              "    <tr style=\"text-align: right;\">\n",
              "      <th></th>\n",
              "      <th>Sentence #</th>\n",
              "      <th>Word</th>\n",
              "      <th>POS</th>\n",
              "      <th>Tag</th>\n",
              "      <th>Word_idx</th>\n",
              "      <th>Tag_idx</th>\n",
              "    </tr>\n",
              "  </thead>\n",
              "  <tbody>\n",
              "    <tr>\n",
              "      <th>0</th>\n",
              "      <td>Sentence: 1</td>\n",
              "      <td>[Thousands, of, demonstrators, have, marched, ...</td>\n",
              "      <td>[NNS, IN, NNS, VBP, VBN, IN, NNP, TO, VB, DT, ...</td>\n",
              "      <td>[O, O, O, O, O, O, B-geo, O, O, O, O, O, B-geo...</td>\n",
              "      <td>[7121, 31348, 13397, 558, 24765, 15102, 1952, ...</td>\n",
              "      <td>[9, 9, 9, 9, 9, 9, 3, 9, 9, 9, 9, 9, 3, 9, 9, ...</td>\n",
              "    </tr>\n",
              "    <tr>\n",
              "      <th>1</th>\n",
              "      <td>Sentence: 10</td>\n",
              "      <td>[Iranian, officials, say, they, expect, to, ge...</td>\n",
              "      <td>[JJ, NNS, VBP, PRP, VBP, TO, VB, NN, TO, JJ, J...</td>\n",
              "      <td>[B-gpe, O, O, O, O, O, O, O, O, O, O, O, O, O,...</td>\n",
              "      <td>[7946, 32259, 32454, 27188, 22574, 34615, 1347...</td>\n",
              "      <td>[0, 9, 9, 9, 9, 9, 9, 9, 9, 9, 9, 9, 9, 9, 9, ...</td>\n",
              "    </tr>\n",
              "    <tr>\n",
              "      <th>2</th>\n",
              "      <td>Sentence: 100</td>\n",
              "      <td>[Helicopter, gunships, Saturday, pounded, mili...</td>\n",
              "      <td>[NN, NNS, NNP, VBD, JJ, NNS, IN, DT, NNP, JJ, ...</td>\n",
              "      <td>[O, O, B-tim, O, O, O, O, O, B-geo, O, O, O, O...</td>\n",
              "      <td>[2468, 12467, 17570, 10094, 8559, 31270, 5437,...</td>\n",
              "      <td>[9, 9, 11, 9, 9, 9, 9, 9, 3, 9, 9, 9, 9, 9, 13...</td>\n",
              "    </tr>\n",
              "    <tr>\n",
              "      <th>3</th>\n",
              "      <td>Sentence: 1000</td>\n",
              "      <td>[They, left, after, a, tense, hour-long, stand...</td>\n",
              "      <td>[PRP, VBD, IN, DT, NN, JJ, NN, IN, NN, NNS, .]</td>\n",
              "      <td>[O, O, O, O, O, O, O, O, O, O, O]</td>\n",
              "      <td>[12744, 29829, 3875, 21744, 33323, 3196, 19985...</td>\n",
              "      <td>[9, 9, 9, 9, 9, 9, 9, 9, 9, 9, 9]</td>\n",
              "    </tr>\n",
              "    <tr>\n",
              "      <th>4</th>\n",
              "      <td>Sentence: 10000</td>\n",
              "      <td>[U.N., relief, coordinator, Jan, Egeland, said...</td>\n",
              "      <td>[NNP, NN, NN, NNP, NNP, VBD, NNP, ,, NNP, ,, J...</td>\n",
              "      <td>[B-geo, O, O, B-per, I-per, O, B-tim, O, B-geo...</td>\n",
              "      <td>[3705, 29736, 13514, 5399, 7485, 30093, 2097, ...</td>\n",
              "      <td>[3, 9, 9, 5, 6, 9, 11, 9, 3, 9, 0, 9, 0, 9, 9,...</td>\n",
              "    </tr>\n",
              "    <tr>\n",
              "      <th>...</th>\n",
              "      <td>...</td>\n",
              "      <td>...</td>\n",
              "      <td>...</td>\n",
              "      <td>...</td>\n",
              "      <td>...</td>\n",
              "      <td>...</td>\n",
              "    </tr>\n",
              "    <tr>\n",
              "      <th>47954</th>\n",
              "      <td>Sentence: 9995</td>\n",
              "      <td>[Opposition, leader, Mir, Hossein, Mousavi, ha...</td>\n",
              "      <td>[NNP, NN, NNP, NNP, NNP, VBZ, VBN, PRP, VBZ, T...</td>\n",
              "      <td>[O, O, O, B-per, I-per, O, O, O, O, O, O, O, O...</td>\n",
              "      <td>[33174, 22118, 15458, 19585, 33086, 1391, 3009...</td>\n",
              "      <td>[9, 9, 9, 5, 6, 9, 9, 9, 9, 9, 9, 9, 9, 9, 9, ...</td>\n",
              "    </tr>\n",
              "    <tr>\n",
              "      <th>47955</th>\n",
              "      <td>Sentence: 9996</td>\n",
              "      <td>[On, Thursday, ,, Iranian, state, media, publi...</td>\n",
              "      <td>[IN, NNP, ,, JJ, NN, NNS, VBN, DT, NN, IN, DT,...</td>\n",
              "      <td>[O, B-tim, O, B-gpe, O, O, O, O, O, O, O, O, B...</td>\n",
              "      <td>[28450, 1195, 27557, 7946, 5547, 4384, 20581, ...</td>\n",
              "      <td>[9, 11, 9, 0, 9, 9, 9, 9, 9, 9, 9, 9, 13, 14, ...</td>\n",
              "    </tr>\n",
              "    <tr>\n",
              "      <th>47956</th>\n",
              "      <td>Sentence: 9997</td>\n",
              "      <td>[Following, Iran, 's, disputed, June, 12, elec...</td>\n",
              "      <td>[VBG, NNP, POS, JJ, NNP, CD, NNS, ,, NNS, NNS,...</td>\n",
              "      <td>[O, B-geo, O, O, B-tim, I-tim, O, O, O, O, O, ...</td>\n",
              "      <td>[8916, 30742, 27006, 29384, 20045, 17641, 7925...</td>\n",
              "      <td>[9, 3, 9, 9, 11, 12, 9, 9, 9, 9, 9, 9, 9, 9, 9...</td>\n",
              "    </tr>\n",
              "    <tr>\n",
              "      <th>47957</th>\n",
              "      <td>Sentence: 9998</td>\n",
              "      <td>[Since, then, ,, authorities, have, held, publ...</td>\n",
              "      <td>[IN, RB, ,, NNS, VBP, VBN, JJ, NNS, IN, DT, VB...</td>\n",
              "      <td>[O, O, O, O, O, O, O, O, O, O, O, O, O, O, O, ...</td>\n",
              "      <td>[4677, 11480, 27557, 29943, 558, 23426, 3202, ...</td>\n",
              "      <td>[9, 9, 9, 9, 9, 9, 9, 9, 9, 9, 9, 9, 9, 9, 9, ...</td>\n",
              "    </tr>\n",
              "    <tr>\n",
              "      <th>47958</th>\n",
              "      <td>Sentence: 9999</td>\n",
              "      <td>[The, United, Nations, is, praising, the, use,...</td>\n",
              "      <td>[DT, NNP, NNP, VBZ, VBG, DT, NN, IN, JJ, NNS, ...</td>\n",
              "      <td>[O, B-org, I-org, O, O, O, O, O, O, O, O, O, O...</td>\n",
              "      <td>[21856, 24523, 21512, 19490, 5568, 11240, 6857...</td>\n",
              "      <td>[9, 13, 14, 9, 9, 9, 9, 9, 9, 9, 9, 9, 9, 9, 9...</td>\n",
              "    </tr>\n",
              "  </tbody>\n",
              "</table>\n",
              "<p>47959 rows × 6 columns</p>\n",
              "</div>"
            ],
            "text/plain": [
              "            Sentence #  ...                                            Tag_idx\n",
              "0          Sentence: 1  ...  [9, 9, 9, 9, 9, 9, 3, 9, 9, 9, 9, 9, 3, 9, 9, ...\n",
              "1         Sentence: 10  ...  [0, 9, 9, 9, 9, 9, 9, 9, 9, 9, 9, 9, 9, 9, 9, ...\n",
              "2        Sentence: 100  ...  [9, 9, 11, 9, 9, 9, 9, 9, 3, 9, 9, 9, 9, 9, 13...\n",
              "3       Sentence: 1000  ...                  [9, 9, 9, 9, 9, 9, 9, 9, 9, 9, 9]\n",
              "4      Sentence: 10000  ...  [3, 9, 9, 5, 6, 9, 11, 9, 3, 9, 0, 9, 0, 9, 9,...\n",
              "...                ...  ...                                                ...\n",
              "47954   Sentence: 9995  ...  [9, 9, 9, 5, 6, 9, 9, 9, 9, 9, 9, 9, 9, 9, 9, ...\n",
              "47955   Sentence: 9996  ...  [9, 11, 9, 0, 9, 9, 9, 9, 9, 9, 9, 9, 13, 14, ...\n",
              "47956   Sentence: 9997  ...  [9, 3, 9, 9, 11, 12, 9, 9, 9, 9, 9, 9, 9, 9, 9...\n",
              "47957   Sentence: 9998  ...  [9, 9, 9, 9, 9, 9, 9, 9, 9, 9, 9, 9, 9, 9, 9, ...\n",
              "47958   Sentence: 9999  ...  [9, 13, 14, 9, 9, 9, 9, 9, 9, 9, 9, 9, 9, 9, 9...\n",
              "\n",
              "[47959 rows x 6 columns]"
            ]
          },
          "metadata": {
            "tags": []
          },
          "execution_count": 73
        }
      ]
    },
    {
      "cell_type": "code",
      "metadata": {
        "colab": {
          "base_uri": "https://localhost:8080/"
        },
        "id": "qibrnW_TSmus",
        "outputId": "b9ab6e5c-cd41-4f30-8bb9-3249a4f1faa3"
      },
      "source": [
        "from sklearn.model_selection import train_test_split\r\n",
        "from keras.preprocessing.sequence import pad_sequences\r\n",
        "from keras.utils import to_categorical\r\n",
        "def get_pad_train_test_val(data_group, data):\r\n",
        "\r\n",
        "    #get max token and tag length\r\n",
        "    n_token = len(list(set(data['Word'].to_list())))\r\n",
        "    n_tag = len(list(set(data['Tag'].to_list())))\r\n",
        "\r\n",
        "    #Pad tokens (X var)    \r\n",
        "    tokens = data_group['Word_idx'].tolist()\r\n",
        "    maxlen = max([len(s) for s in tokens])\r\n",
        "    pad_tokens = pad_sequences(tokens, maxlen=maxlen, dtype='int32', padding='post', value= n_token - 1)\r\n",
        "\r\n",
        "    #Pad Tags (y var) and convert it into one hot encoding\r\n",
        "    tags = data_group['Tag_idx'].tolist()\r\n",
        "    pad_tags = pad_sequences(tags, maxlen=maxlen, dtype='int32', padding='post', value= tag2idx[\"O\"])\r\n",
        "    n_tags = len(tag2idx)\r\n",
        "    pad_tags = [to_categorical(i, num_classes=n_tags) for i in pad_tags]\r\n",
        "\r\n",
        "    #Split train, test and validation set\r\n",
        "    tokens_, test_tokens, tags_, test_tags = train_test_split(pad_tokens, pad_tags, test_size=0.1, train_size=0.9, random_state=2020)\r\n",
        "    train_tokens, val_tokens, train_tags, val_tags = train_test_split(tokens_,tags_,test_size = 0.25,train_size =0.75, random_state=2020)\r\n",
        "\r\n",
        "    print(\r\n",
        "        'train_tokens length:', len(train_tokens),\r\n",
        "        '\\ntrain_tokens length:', len(train_tokens),\r\n",
        "        '\\ntest_tokens length:', len(test_tokens),\r\n",
        "        '\\ntest_tags:', len(test_tags),\r\n",
        "        '\\nval_tokens:', len(val_tokens),\r\n",
        "        '\\nval_tags:', len(val_tags),\r\n",
        "    )\r\n",
        "    \r\n",
        "    return train_tokens, val_tokens, test_tokens, train_tags, val_tags, test_tags\r\n",
        "\r\n",
        "train_tokens, val_tokens, test_tokens, train_tags, val_tags, test_tags = get_pad_train_test_val(data_group, data)"
      ],
      "execution_count": 75,
      "outputs": [
        {
          "output_type": "stream",
          "text": [
            "train_tokens length: 32372 \n",
            "train_tokens length: 32372 \n",
            "test_tokens length: 4796 \n",
            "test_tags: 4796 \n",
            "val_tokens: 10791 \n",
            "val_tags: 10791\n"
          ],
          "name": "stdout"
        }
      ]
    },
    {
      "cell_type": "code",
      "metadata": {
        "colab": {
          "base_uri": "https://localhost:8080/"
        },
        "id": "agXL96bv21to",
        "outputId": "f300d19d-1316-4ebf-80b4-fc3a872f52f6"
      },
      "source": [
        "test_tags[0].shape"
      ],
      "execution_count": 80,
      "outputs": [
        {
          "output_type": "execute_result",
          "data": {
            "text/plain": [
              "(104, 17)"
            ]
          },
          "metadata": {
            "tags": []
          },
          "execution_count": 80
        }
      ]
    },
    {
      "cell_type": "markdown",
      "metadata": {
        "id": "Re3ABBJcqvUy"
      },
      "source": [
        "## Model training\r\n",
        "\r\n",
        "![image.png](data:image/png;base64,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)\r\n",
        "\r\n",
        "**1. Embedding Layer :** \r\n",
        "    One can imagine the Embedding layer as a simple matrix multiplication that transforms words into their corresponding word embeddings OR turns positive integers (indexes) into dense vectors of fixed size.\r\n",
        "\r\n",
        "**2. Bidirectional LSTM :**\r\n",
        "    A Bidirectional LSTM, or biLSTM, is a sequence processing model that consists of two LSTMs: one taking the input in a forward direction, and the other in a backwards direction.\r\n",
        "\r\n",
        "**3. LSTM:**\r\n",
        "    LSTM networks are well-suited to classifying, processing and making predictions based on time series data.\r\n",
        "\r\n",
        "**4. Time Distributed Dense Layer:**\r\n",
        "    It allows to use a layer for each input. That means that instead of having several input “models”, we can use “one model” applied to each input."
      ]
    },
    {
      "cell_type": "code",
      "metadata": {
        "id": "MvyjsZNJSzw7"
      },
      "source": [
        "import numpy as np\r\n",
        "import tensorflow\r\n",
        "from tensorflow.keras import Sequential, Model, Input\r\n",
        "from tensorflow.keras.layers import LSTM, Embedding, Dense, TimeDistributed, Dropout, Bidirectional\r\n",
        "from tensorflow.keras.utils import plot_model\r\n",
        "\r\n",
        "from numpy.random import seed\r\n",
        "seed(1)\r\n",
        "tensorflow.random.set_seed(2)\r\n",
        "\r\n",
        "input_dim = len(list(set(data['Word'].to_list())))+1\r\n",
        "output_dim = 64\r\n",
        "input_length = max([len(s) for s in data_group['Word_idx'].tolist()])\r\n",
        "n_tags = len(tag2idx)"
      ],
      "execution_count": 22,
      "outputs": []
    },
    {
      "cell_type": "code",
      "metadata": {
        "id": "jB0UlxhhjZ_6"
      },
      "source": [
        "def get_bilstm_lstm_model():\r\n",
        "    model = Sequential()\r\n",
        "\r\n",
        "    # Add Embedding layer\r\n",
        "    model.add(Embedding(input_dim=input_dim, output_dim=output_dim, input_length=input_length))\r\n",
        "\r\n",
        "    # Add bidirectional LSTM\r\n",
        "    model.add(Bidirectional(LSTM(units=output_dim, return_sequences=True, dropout=0.2, recurrent_dropout=0.2), merge_mode = 'concat'))\r\n",
        "\r\n",
        "    # Add LSTM\r\n",
        "    model.add(LSTM(units=output_dim, return_sequences=True, dropout=0.5, recurrent_dropout=0.5))\r\n",
        "\r\n",
        "    # Add timeDistributed Layer\r\n",
        "    model.add(TimeDistributed(Dense(n_tags, activation=\"relu\")))\r\n",
        "\r\n",
        "    #Optimiser \r\n",
        "    # adam = k.optimizers.Adam(lr=0.0005, beta_1=0.9, beta_2=0.999)\r\n",
        "\r\n",
        "    # Compile model\r\n",
        "    model.compile(loss='categorical_crossentropy', optimizer='adam', metrics=['accuracy'])\r\n",
        "    model.summary()\r\n",
        "    \r\n",
        "    return model"
      ],
      "execution_count": 23,
      "outputs": []
    },
    {
      "cell_type": "code",
      "metadata": {
        "colab": {
          "base_uri": "https://localhost:8080/"
        },
        "id": "OS3BzV6ijdrA",
        "outputId": "e412f032-e893-4cb1-b612-f6b208f8d19b"
      },
      "source": [
        "def train_model(X, y, model):\r\n",
        "    loss = list()\r\n",
        "    for i in range(25):\r\n",
        "        # fit model for one epoch on this sequence\r\n",
        "        hist = model.fit(X, y, batch_size=1000, verbose=1, epochs=1, validation_split=0.2)\r\n",
        "        loss.append(hist.history['loss'][0])\r\n",
        "    return loss\r\n",
        "    \r\n",
        "results = pd.DataFrame()\r\n",
        "model_bilstm_lstm = get_bilstm_lstm_model()\r\n",
        "plot_model(model_bilstm_lstm)\r\n",
        "results['with_add_lstm'] = train_model(train_tokens, np.array(train_tags), model_bilstm_lstm)"
      ],
      "execution_count": 24,
      "outputs": [
        {
          "output_type": "stream",
          "text": [
            "Model: \"sequential\"\n",
            "_________________________________________________________________\n",
            "Layer (type)                 Output Shape              Param #   \n",
            "=================================================================\n",
            "embedding (Embedding)        (None, 104, 64)           2251072   \n",
            "_________________________________________________________________\n",
            "bidirectional (Bidirectional (None, 104, 128)          66048     \n",
            "_________________________________________________________________\n",
            "lstm_1 (LSTM)                (None, 104, 64)           49408     \n",
            "_________________________________________________________________\n",
            "time_distributed (TimeDistri (None, 104, 17)           1105      \n",
            "=================================================================\n",
            "Total params: 2,367,633\n",
            "Trainable params: 2,367,633\n",
            "Non-trainable params: 0\n",
            "_________________________________________________________________\n",
            "26/26 [==============================] - 149s 5s/step - loss: 1.1203 - accuracy: 0.8379 - val_loss: 0.2827 - val_accuracy: 0.9681\n",
            "26/26 [==============================] - 139s 5s/step - loss: 0.2915 - accuracy: 0.9677 - val_loss: 0.2688 - val_accuracy: 0.9681\n",
            "26/26 [==============================] - 139s 5s/step - loss: 0.2666 - accuracy: 0.9677 - val_loss: 0.2351 - val_accuracy: 0.9681\n",
            "26/26 [==============================] - 138s 5s/step - loss: 0.2571 - accuracy: 0.9677 - val_loss: 0.2445 - val_accuracy: 0.9681\n",
            "26/26 [==============================] - 138s 5s/step - loss: 0.2468 - accuracy: 0.9677 - val_loss: 0.2304 - val_accuracy: 0.9681\n",
            "26/26 [==============================] - 137s 5s/step - loss: 0.2324 - accuracy: 0.9677 - val_loss: 0.2186 - val_accuracy: 0.9681\n",
            "26/26 [==============================] - 136s 5s/step - loss: 0.2251 - accuracy: 0.9677 - val_loss: 0.2145 - val_accuracy: 0.9682\n",
            "26/26 [==============================] - 137s 5s/step - loss: 0.2048 - accuracy: 0.9678 - val_loss: 0.1865 - val_accuracy: 0.9682\n",
            "26/26 [==============================] - 137s 5s/step - loss: 0.1834 - accuracy: 0.9678 - val_loss: 0.1548 - val_accuracy: 0.9682\n",
            "26/26 [==============================] - 137s 5s/step - loss: 0.1507 - accuracy: 0.9678 - val_loss: 0.1400 - val_accuracy: 0.9682\n",
            "26/26 [==============================] - 139s 5s/step - loss: 0.1225 - accuracy: 0.9679 - val_loss: 0.1194 - val_accuracy: 0.9682\n",
            "26/26 [==============================] - 136s 5s/step - loss: 0.1097 - accuracy: 0.9679 - val_loss: 0.1149 - val_accuracy: 0.9682\n",
            "26/26 [==============================] - 136s 5s/step - loss: 0.1051 - accuracy: 0.9679 - val_loss: 0.1166 - val_accuracy: 0.9683\n",
            "26/26 [==============================] - 137s 5s/step - loss: 0.1070 - accuracy: 0.9682 - val_loss: 0.1182 - val_accuracy: 0.9683\n",
            "26/26 [==============================] - 139s 5s/step - loss: 0.0974 - accuracy: 0.9683 - val_loss: 0.1112 - val_accuracy: 0.9686\n",
            "26/26 [==============================] - 135s 5s/step - loss: 0.0922 - accuracy: 0.9685 - val_loss: 0.1096 - val_accuracy: 0.9689\n",
            "26/26 [==============================] - 135s 5s/step - loss: 0.0886 - accuracy: 0.9689 - val_loss: 0.1074 - val_accuracy: 0.9693\n",
            "26/26 [==============================] - 135s 5s/step - loss: 0.0873 - accuracy: 0.9693 - val_loss: 0.1058 - val_accuracy: 0.9696\n",
            "26/26 [==============================] - 135s 5s/step - loss: 0.0846 - accuracy: 0.9695 - val_loss: 0.1040 - val_accuracy: 0.9702\n",
            "26/26 [==============================] - 139s 5s/step - loss: 0.0941 - accuracy: 0.9699 - val_loss: 0.2274 - val_accuracy: 0.9652\n",
            "26/26 [==============================] - 136s 5s/step - loss: 0.1359 - accuracy: 0.9658 - val_loss: 0.1182 - val_accuracy: 0.9688\n",
            "26/26 [==============================] - 135s 5s/step - loss: 0.1160 - accuracy: 0.9683 - val_loss: 0.1177 - val_accuracy: 0.9689\n",
            "26/26 [==============================] - 135s 5s/step - loss: 0.0963 - accuracy: 0.9685 - val_loss: 0.1095 - val_accuracy: 0.9692\n",
            "26/26 [==============================] - 138s 5s/step - loss: 0.0922 - accuracy: 0.9690 - val_loss: 0.1125 - val_accuracy: 0.9697\n",
            "26/26 [==============================] - 134s 5s/step - loss: 0.0933 - accuracy: 0.9690 - val_loss: 0.1054 - val_accuracy: 0.9694\n"
          ],
          "name": "stdout"
        }
      ]
    }
  ]
}